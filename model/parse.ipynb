{
 "cells": [
  {
   "cell_type": "code",
   "execution_count": 6,
   "metadata": {},
   "outputs": [],
   "source": [
    "import pandas as pd\n",
    "import re"
   ]
  },
  {
   "cell_type": "code",
   "execution_count": 2,
   "metadata": {},
   "outputs": [
    {
     "data": {
      "text/html": [
       "<div>\n",
       "<style scoped>\n",
       "    .dataframe tbody tr th:only-of-type {\n",
       "        vertical-align: middle;\n",
       "    }\n",
       "\n",
       "    .dataframe tbody tr th {\n",
       "        vertical-align: top;\n",
       "    }\n",
       "\n",
       "    .dataframe thead th {\n",
       "        text-align: right;\n",
       "    }\n",
       "</style>\n",
       "<table border=\"1\" class=\"dataframe\">\n",
       "  <thead>\n",
       "    <tr style=\"text-align: right;\">\n",
       "      <th></th>\n",
       "      <th>Article</th>\n",
       "      <th>m_sentiment</th>\n",
       "      <th>f_sentiment</th>\n",
       "      <th>m_emotion</th>\n",
       "      <th>f_emotion</th>\n",
       "      <th>m_normalized</th>\n",
       "      <th>f_normalized</th>\n",
       "    </tr>\n",
       "  </thead>\n",
       "  <tbody>\n",
       "    <tr>\n",
       "      <th>0</th>\n",
       "      <td>f : there are many wonderful places for shoppi...</td>\n",
       "      <td>0.500000</td>\n",
       "      <td>0.534091</td>\n",
       "      <td>Satisfaction</td>\n",
       "      <td>Joy</td>\n",
       "      <td>-1.250000</td>\n",
       "      <td>-1.164773</td>\n",
       "    </tr>\n",
       "    <tr>\n",
       "      <th>1</th>\n",
       "      <td>f : what is it frank ? you look upset . m : hi...</td>\n",
       "      <td>0.106944</td>\n",
       "      <td>0.106944</td>\n",
       "      <td>Satisfaction</td>\n",
       "      <td>Satisfaction</td>\n",
       "      <td>-2.232639</td>\n",
       "      <td>-2.232639</td>\n",
       "    </tr>\n",
       "    <tr>\n",
       "      <th>2</th>\n",
       "      <td>f : good morning , i was just walking by and s...</td>\n",
       "      <td>0.285714</td>\n",
       "      <td>0.492857</td>\n",
       "      <td>Satisfaction</td>\n",
       "      <td>Satisfaction</td>\n",
       "      <td>-1.785714</td>\n",
       "      <td>-1.267857</td>\n",
       "    </tr>\n",
       "    <tr>\n",
       "      <th>3</th>\n",
       "      <td>m : i 'm afraid you 've got a temperature , ma...</td>\n",
       "      <td>-0.600000</td>\n",
       "      <td>-0.333333</td>\n",
       "      <td>Sadness</td>\n",
       "      <td>Disappointment</td>\n",
       "      <td>-4.000000</td>\n",
       "      <td>-3.333333</td>\n",
       "    </tr>\n",
       "    <tr>\n",
       "      <th>4</th>\n",
       "      <td>f : good morning . m : good morning . f : mrs ...</td>\n",
       "      <td>0.700000</td>\n",
       "      <td>0.700000</td>\n",
       "      <td>Joy</td>\n",
       "      <td>Joy</td>\n",
       "      <td>-0.750000</td>\n",
       "      <td>-0.750000</td>\n",
       "    </tr>\n",
       "  </tbody>\n",
       "</table>\n",
       "</div>"
      ],
      "text/plain": [
       "                                             Article  m_sentiment  \\\n",
       "0  f : there are many wonderful places for shoppi...     0.500000   \n",
       "1  f : what is it frank ? you look upset . m : hi...     0.106944   \n",
       "2  f : good morning , i was just walking by and s...     0.285714   \n",
       "3  m : i 'm afraid you 've got a temperature , ma...    -0.600000   \n",
       "4  f : good morning . m : good morning . f : mrs ...     0.700000   \n",
       "\n",
       "   f_sentiment     m_emotion       f_emotion  m_normalized  f_normalized  \n",
       "0     0.534091  Satisfaction             Joy     -1.250000     -1.164773  \n",
       "1     0.106944  Satisfaction    Satisfaction     -2.232639     -2.232639  \n",
       "2     0.492857  Satisfaction    Satisfaction     -1.785714     -1.267857  \n",
       "3    -0.333333       Sadness  Disappointment     -4.000000     -3.333333  \n",
       "4     0.700000           Joy             Joy     -0.750000     -0.750000  "
      ]
     },
     "execution_count": 2,
     "metadata": {},
     "output_type": "execute_result"
    }
   ],
   "source": [
    "df = pd.read_csv(\"data/raw/sentiment.csv\")\n",
    "df.head()"
   ]
  },
  {
   "cell_type": "code",
   "execution_count": 29,
   "metadata": {},
   "outputs": [],
   "source": [
    "model_df_dict = {\"sentences\": [], \"label\": []}\n",
    "\n",
    "for i in range(df.shape[0]):\n",
    "    df_i = df.iloc[i]\n",
    "\n",
    "    conversation = df_i[\"Article\"]\n",
    "\n",
    "    # m : {sentence} f :\n",
    "    m = \" | \".join(re.findall(r\"(?<=m : ).*?(?=f : )\", conversation))\n",
    "    m_label = df_i.m_sentiment\n",
    "\n",
    "    # f : {sentence} m :\n",
    "    f = \" | \".join(re.findall(r\"(?<=f : ).*?(?=m : )\", conversation))\n",
    "    f_label = df_i.f_sentiment\n",
    "\n",
    "    model_df_dict[\"sentences\"].append(m)\n",
    "    model_df_dict[\"label\"].append(m_label)\n",
    "\n",
    "    model_df_dict[\"sentences\"].append(f)\n",
    "    model_df_dict[\"label\"].append(f_label)"
   ]
  },
  {
   "cell_type": "code",
   "execution_count": 32,
   "metadata": {},
   "outputs": [
    {
     "data": {
      "text/html": [
       "<div>\n",
       "<style scoped>\n",
       "    .dataframe tbody tr th:only-of-type {\n",
       "        vertical-align: middle;\n",
       "    }\n",
       "\n",
       "    .dataframe tbody tr th {\n",
       "        vertical-align: top;\n",
       "    }\n",
       "\n",
       "    .dataframe thead th {\n",
       "        text-align: right;\n",
       "    }\n",
       "</style>\n",
       "<table border=\"1\" class=\"dataframe\">\n",
       "  <thead>\n",
       "    <tr style=\"text-align: right;\">\n",
       "      <th></th>\n",
       "      <th>sentences</th>\n",
       "      <th>label</th>\n",
       "    </tr>\n",
       "  </thead>\n",
       "  <tbody>\n",
       "    <tr>\n",
       "      <th>0</th>\n",
       "      <td>so do i. i like here because i can watch footb...</td>\n",
       "      <td>0.500000</td>\n",
       "    </tr>\n",
       "    <tr>\n",
       "      <th>1</th>\n",
       "      <td>there are many wonderful places for shopping i...</td>\n",
       "      <td>0.534091</td>\n",
       "    </tr>\n",
       "    <tr>\n",
       "      <th>2</th>\n",
       "      <td>hi nancy , i work very hard , i get results . ...</td>\n",
       "      <td>0.106944</td>\n",
       "    </tr>\n",
       "    <tr>\n",
       "      <th>3</th>\n",
       "      <td>what is it frank ? you look upset .  | frank i...</td>\n",
       "      <td>0.106944</td>\n",
       "    </tr>\n",
       "    <tr>\n",
       "      <th>4</th>\n",
       "      <td>that is right .</td>\n",
       "      <td>0.285714</td>\n",
       "    </tr>\n",
       "  </tbody>\n",
       "</table>\n",
       "</div>"
      ],
      "text/plain": [
       "                                           sentences     label\n",
       "0  so do i. i like here because i can watch footb...  0.500000\n",
       "1  there are many wonderful places for shopping i...  0.534091\n",
       "2  hi nancy , i work very hard , i get results . ...  0.106944\n",
       "3  what is it frank ? you look upset .  | frank i...  0.106944\n",
       "4                                   that is right .   0.285714"
      ]
     },
     "execution_count": 32,
     "metadata": {},
     "output_type": "execute_result"
    }
   ],
   "source": [
    "model_df = pd.DataFrame.from_dict(model_df_dict)\n",
    "model_df.head()"
   ]
  },
  {
   "cell_type": "code",
   "execution_count": 33,
   "metadata": {},
   "outputs": [],
   "source": [
    "model_df.to_csv(\"data/processed/sentiment.csv\", index=False)"
   ]
  }
 ],
 "metadata": {
  "kernelspec": {
   "display_name": ".venv",
   "language": "python",
   "name": "python3"
  },
  "language_info": {
   "codemirror_mode": {
    "name": "ipython",
    "version": 3
   },
   "file_extension": ".py",
   "mimetype": "text/x-python",
   "name": "python",
   "nbconvert_exporter": "python",
   "pygments_lexer": "ipython3",
   "version": "3.12.3"
  }
 },
 "nbformat": 4,
 "nbformat_minor": 2
}
